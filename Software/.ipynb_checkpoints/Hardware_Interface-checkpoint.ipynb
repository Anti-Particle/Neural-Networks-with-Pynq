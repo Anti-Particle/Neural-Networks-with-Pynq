{
 "cells": [
  {
   "cell_type": "code",
   "execution_count": null,
   "id": "ffe905fa-23a5-4576-a66d-2e97d9db1e32",
   "metadata": {},
   "outputs": [],
   "source": [
    "#This notebook will contain the python code which will interface with the programmed logic of the FPGA,\n",
    "#feeding in processed data and pulling out the result of multiple activation layers"
   ]
  }
 ],
 "metadata": {
  "kernelspec": {
   "display_name": "Python 3 (ipykernel)",
   "language": "python",
   "name": "python3"
  },
  "language_info": {
   "codemirror_mode": {
    "name": "ipython",
    "version": 3
   },
   "file_extension": ".py",
   "mimetype": "text/x-python",
   "name": "python",
   "nbconvert_exporter": "python",
   "pygments_lexer": "ipython3",
   "version": "3.11.4"
  }
 },
 "nbformat": 4,
 "nbformat_minor": 5
}
